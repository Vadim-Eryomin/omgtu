{
 "cells": [
  {
   "cell_type": "code",
   "execution_count": 18,
   "metadata": {},
   "outputs": [],
   "source": [
    "using System;\n",
    "using System.IO;\n",
    "using System.Linq;\n",
    "using System.Reflection;"
   ]
  },
  {
   "cell_type": "code",
   "execution_count": 19,
   "metadata": {
    "dotnet_interactive": {
     "language": "csharp"
    },
    "polyglot_notebook": {
     "kernelName": "csharp"
    }
   },
   "outputs": [],
   "source": [
    "void GetInfoAboutAssembly(Assembly assembly)\n",
    "{\n",
    "    var result = assembly\n",
    "        .GetTypes()\n",
    "        .Where(type => type.IsClass || type.IsInterface)\n",
    "        .Select(type =>\n",
    "        {\n",
    "            var methods = type.GetMethods(BindingFlags.Public | BindingFlags.Instance | BindingFlags.Static);\n",
    "\n",
    "            StringBuilder answer = new StringBuilder($\"{type.FullName}:\\n\");\n",
    "            answer.Append(\"\\tМетоды:\\n\");\n",
    "\n",
    "            methods\n",
    "                .Select(e => {\n",
    "                    return \n",
    "                    $\"\\t\\t{e.ReturnType.FullName} {e.Name}\" + \n",
    "                    (e.GetParameters().Count() > 0 ? \n",
    "                        \" - с параметрами: \\n\" + string.Join(\"\", e.GetParameters().Select(par => $\"\\t\\t\\t{par.ParameterType.FullName} {par.Name} \\n\")) :\n",
    "                        \" - без параметров\");\n",
    "                })\n",
    "                .ToList()\n",
    "                .ForEach(e => answer.Append(e + \"\\n\"));\n",
    "\n",
    "            return answer.ToString();\n",
    "        });\n",
    "        \n",
    "    File.WriteAllLines(\"result.txt\", result);\n",
    "}"
   ]
  },
  {
   "cell_type": "code",
   "execution_count": 20,
   "metadata": {},
   "outputs": [],
   "source": [
    "GetInfoAboutAssembly(Assembly.LoadFrom(\"core.dll\"));"
   ]
  }
 ],
 "metadata": {
  "kernelspec": {
   "display_name": ".NET (C#)",
   "language": "C#",
   "name": ".net-csharp"
  },
  "polyglot_notebook": {
   "kernelInfo": {
    "defaultKernelName": "csharp",
    "items": [
     {
      "aliases": [],
      "languageName": "csharp",
      "name": "csharp"
     }
    ]
   }
  }
 },
 "nbformat": 4,
 "nbformat_minor": 2
}
