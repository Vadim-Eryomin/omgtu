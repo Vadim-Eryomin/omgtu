{
 "cells": [
  {
   "cell_type": "code",
   "execution_count": 2,
   "metadata": {
    "dotnet_interactive": {
     "language": "csharp"
    },
    "polyglot_notebook": {
     "kernelName": "csharp"
    }
   },
   "outputs": [],
   "source": [
    "using System.Reflection;"
   ]
  },
  {
   "cell_type": "code",
   "execution_count": 36,
   "metadata": {
    "dotnet_interactive": {
     "language": "csharp"
    },
    "polyglot_notebook": {
     "kernelName": "csharp"
    }
   },
   "outputs": [
    {
     "name": "stdout",
     "output_type": "stream",
     "text": [
      "\n",
      "Submission#37\n",
      "Тип: System.Threading.Tasks.Task`1[[System.Object, System.Private.CoreLib, Version=8.0.0.0, Culture=neutral, PublicKeyToken=7cec85d7bea7798e]] \tМетод: <Initialize>\n",
      "Тип: System.Threading.Tasks.Task`1[[System.Object, System.Private.CoreLib, Version=8.0.0.0, Culture=neutral, PublicKeyToken=7cec85d7bea7798e]] \tМетод: <Factory>\n",
      "Тип: System.Type \tМетод: GetType\n",
      "Тип: System.String \tМетод: ToString\n",
      "Тип: System.Boolean \tМетод: Equals\n",
      "Тип: System.Int32 \tМетод: GetHashCode\n",
      "\n",
      "\n",
      "Submission#37+<<Initialize>>d__0\n",
      "Тип: System.Type \tМетод: GetType\n",
      "Тип: System.String \tМетод: ToString\n",
      "Тип: System.Boolean \tМетод: Equals\n",
      "Тип: System.Int32 \tМетод: GetHashCode\n",
      "\n",
      "\n",
      "Submission#37+<>c\n",
      "Тип: System.Boolean \tМетод: <<Initialize>>b__0_0\n",
      "Тип: System.Int32 \tМетод: <<Initialize>>b__0_1\n",
      "Тип: System.Void \tМетод: <<Initialize>>b__0_2\n",
      "Тип: System.Type \tМетод: GetType\n",
      "Тип: System.String \tМетод: ToString\n",
      "Тип: System.Boolean \tМетод: Equals\n",
      "Тип: System.Int32 \tМетод: GetHashCode\n",
      "\n"
     ]
    },
    {
     "data": {
      "text/html": [
       "<div class=\"dni-plaintext\"><pre>[ 0, 0, 0 ]</pre></div><style>\r\n",
       ".dni-code-hint {\r\n",
       "    font-style: italic;\r\n",
       "    overflow: hidden;\r\n",
       "    white-space: nowrap;\r\n",
       "}\r\n",
       ".dni-treeview {\r\n",
       "    white-space: nowrap;\r\n",
       "}\r\n",
       ".dni-treeview td {\r\n",
       "    vertical-align: top;\r\n",
       "    text-align: start;\r\n",
       "}\r\n",
       "details.dni-treeview {\r\n",
       "    padding-left: 1em;\r\n",
       "}\r\n",
       "table td {\r\n",
       "    text-align: start;\r\n",
       "}\r\n",
       "table tr { \r\n",
       "    vertical-align: top; \r\n",
       "    margin: 0em 0px;\r\n",
       "}\r\n",
       "table tr td pre \r\n",
       "{ \r\n",
       "    vertical-align: top !important; \r\n",
       "    margin: 0em 0px !important;\r\n",
       "} \r\n",
       "table th {\r\n",
       "    text-align: start;\r\n",
       "}\r\n",
       "</style>"
      ]
     },
     "metadata": {},
     "output_type": "display_data"
    }
   ],
   "source": [
    "var assembly = Assembly.LoadFrom(\"core.dll\");\n",
    "Assembly exec = Assembly.GetExecutingAssembly();\n",
    "exec\n",
    "    .GetTypes()\n",
    "    .Where(e => e.IsClass || e.IsInterface)\n",
    "    .Select(e => {\n",
    "        Console.WriteLine();\n",
    "        Console.WriteLine(e.FullName);\n",
    "        e.GetMethods()\n",
    "        .ToList()\n",
    "        .ForEach(method => Console.WriteLine($\"Тип: {method.ReturnType.FullName} \\tМетод: {method.Name}\"));\n",
    "        Console.WriteLine();\n",
    "        return 0;\n",
    "    })\n",
    "    \n",
    "\n",
    "    "
   ]
  }
 ],
 "metadata": {
  "kernelspec": {
   "display_name": ".NET (C#)",
   "language": "C#",
   "name": ".net-csharp"
  },
  "polyglot_notebook": {
   "kernelInfo": {
    "defaultKernelName": "csharp",
    "items": [
     {
      "aliases": [],
      "languageName": "csharp",
      "name": "csharp"
     }
    ]
   }
  }
 },
 "nbformat": 4,
 "nbformat_minor": 2
}
