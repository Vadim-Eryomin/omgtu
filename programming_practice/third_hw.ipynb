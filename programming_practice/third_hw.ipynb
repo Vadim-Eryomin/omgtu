{
 "cells": [
  {
   "cell_type": "code",
   "execution_count": 5,
   "metadata": {
    "dotnet_interactive": {
     "language": "csharp"
    },
    "polyglot_notebook": {
     "kernelName": "csharp"
    }
   },
   "outputs": [],
   "source": [
    "using Newtonsoft.Json;\n",
    "using System.IO;"
   ]
  },
  {
   "cell_type": "code",
   "execution_count": 13,
   "metadata": {},
   "outputs": [],
   "source": [
    "string data = File.ReadAllText(\"test.json\");"
   ]
  },
  {
   "cell_type": "code",
   "execution_count": 16,
   "metadata": {},
   "outputs": [],
   "source": [
    "class DataIn {\n",
    "    public string Type {get;set;}\n",
    "    public List<Entry> entries {get;set;}\n",
    "}\n",
    "\n",
    "class Entry {\n",
    "    public string Name {get; set;}\n",
    "    public string Group {get; set;}\n",
    "    public string Discipline {get; set;}\n",
    "    public int Mark {get; set;}\n",
    "}"
   ]
  },
  {
   "cell_type": "code",
   "execution_count": 14,
   "metadata": {},
   "outputs": [
    {
     "ename": "Error",
     "evalue": "(1,1): error CS0305: Using the generic method group 'DeserializeObject' requires 1 type arguments\r\n(1,13): error CS1501: No overload for method 'DeserializeObject' takes 0 arguments",
     "output_type": "error",
     "traceback": [
      "(1,1): error CS0305: Using the generic method group 'DeserializeObject' requires 1 type arguments\r\n",
      "(1,13): error CS1501: No overload for method 'DeserializeObject' takes 0 arguments"
     ]
    }
   ],
   "source": [
    "JsonConvert.DeserializeObject<DataIn>(data)"
   ]
  }
 ],
 "metadata": {
  "kernelspec": {
   "display_name": ".NET (C#)",
   "language": "C#",
   "name": ".net-csharp"
  },
  "polyglot_notebook": {
   "kernelInfo": {
    "defaultKernelName": "csharp",
    "items": [
     {
      "aliases": [],
      "languageName": "csharp",
      "name": "csharp"
     }
    ]
   }
  }
 },
 "nbformat": 4,
 "nbformat_minor": 2
}
