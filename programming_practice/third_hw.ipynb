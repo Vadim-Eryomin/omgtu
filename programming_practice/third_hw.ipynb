{
 "cells": [
  {
   "cell_type": "code",
   "execution_count": 31,
   "metadata": {
    "dotnet_interactive": {
     "language": "csharp"
    },
    "polyglot_notebook": {
     "kernelName": "csharp"
    }
   },
   "outputs": [],
   "source": [
    "using Newtonsoft.Json;\n",
    "using Newtonsoft;\n",
    "using System.IO;"
   ]
  },
  {
   "cell_type": "code",
   "execution_count": 113,
   "metadata": {
    "dotnet_interactive": {
     "language": "csharp"
    },
    "polyglot_notebook": {
     "kernelName": "csharp"
    }
   },
   "outputs": [
    {
     "ename": "Error",
     "evalue": "Newtonsoft.Json.JsonWriterException: Token PropertyName in state ArrayStart would result in an invalid JSON object. Path 'response'.\r\n   at Newtonsoft.Json.JsonWriter.AutoComplete(JsonToken tokenBeingWritten)\r\n   at Newtonsoft.Json.JsonTextWriter.WritePropertyName(String name)\r\n   at Newtonsoft.Json.Linq.JProperty.WriteTo(JsonWriter writer, JsonConverter[] converters)\r\n   at Newtonsoft.Json.Serialization.JsonSerializerInternalWriter.SerializeValue(JsonWriter writer, Object value, JsonContract valueContract, JsonProperty member, JsonContainerContract containerContract, JsonProperty containerProperty)\r\n   at Newtonsoft.Json.Serialization.JsonSerializerInternalWriter.SerializeList(JsonWriter writer, IEnumerable values, JsonArrayContract contract, JsonProperty member, JsonContainerContract collectionContract, JsonProperty containerProperty)\r\n   at Newtonsoft.Json.Serialization.JsonSerializerInternalWriter.SerializeValue(JsonWriter writer, Object value, JsonContract valueContract, JsonProperty member, JsonContainerContract containerContract, JsonProperty containerProperty)\r\n   at Newtonsoft.Json.Serialization.JsonSerializerInternalWriter.SerializeObject(JsonWriter writer, Object value, JsonObjectContract contract, JsonProperty member, JsonContainerContract collectionContract, JsonProperty containerProperty)\r\n   at Newtonsoft.Json.Serialization.JsonSerializerInternalWriter.SerializeValue(JsonWriter writer, Object value, JsonContract valueContract, JsonProperty member, JsonContainerContract containerContract, JsonProperty containerProperty)\r\n   at Newtonsoft.Json.Serialization.JsonSerializerInternalWriter.Serialize(JsonWriter jsonWriter, Object value, Type objectType)\r\n   at Newtonsoft.Json.JsonSerializer.SerializeInternal(JsonWriter jsonWriter, Object value, Type objectType)\r\n   at Newtonsoft.Json.JsonSerializer.Serialize(JsonWriter jsonWriter, Object value, Type objectType)\r\n   at Newtonsoft.Json.JsonConvert.SerializeObjectInternal(Object value, Type type, JsonSerializer jsonSerializer)\r\n   at Newtonsoft.Json.JsonConvert.SerializeObject(Object value, Type type, JsonSerializerSettings settings)\r\n   at Newtonsoft.Json.JsonConvert.SerializeObject(Object value)\r\n   at Submission#114.<<Initialize>>d__0.MoveNext()\r\n--- End of stack trace from previous location ---\r\n   at Microsoft.CodeAnalysis.Scripting.ScriptExecutionState.RunSubmissionsAsync[TResult](ImmutableArray`1 precedingExecutors, Func`2 currentExecutor, StrongBox`1 exceptionHolderOpt, Func`2 catchExceptionOpt, CancellationToken cancellationToken)",
     "output_type": "error",
     "traceback": [
      "Newtonsoft.Json.JsonWriterException: Token PropertyName in state ArrayStart would result in an invalid JSON object. Path 'response'.\r\n",
      "   at Newtonsoft.Json.JsonWriter.AutoComplete(JsonToken tokenBeingWritten)\r\n",
      "   at Newtonsoft.Json.JsonTextWriter.WritePropertyName(String name)\r\n",
      "   at Newtonsoft.Json.Linq.JProperty.WriteTo(JsonWriter writer, JsonConverter[] converters)\r\n",
      "   at Newtonsoft.Json.Serialization.JsonSerializerInternalWriter.SerializeValue(JsonWriter writer, Object value, JsonContract valueContract, JsonProperty member, JsonContainerContract containerContract, JsonProperty containerProperty)\r\n",
      "   at Newtonsoft.Json.Serialization.JsonSerializerInternalWriter.SerializeList(JsonWriter writer, IEnumerable values, JsonArrayContract contract, JsonProperty member, JsonContainerContract collectionContract, JsonProperty containerProperty)\r\n",
      "   at Newtonsoft.Json.Serialization.JsonSerializerInternalWriter.SerializeValue(JsonWriter writer, Object value, JsonContract valueContract, JsonProperty member, JsonContainerContract containerContract, JsonProperty containerProperty)\r\n",
      "   at Newtonsoft.Json.Serialization.JsonSerializerInternalWriter.SerializeObject(JsonWriter writer, Object value, JsonObjectContract contract, JsonProperty member, JsonContainerContract collectionContract, JsonProperty containerProperty)\r\n",
      "   at Newtonsoft.Json.Serialization.JsonSerializerInternalWriter.SerializeValue(JsonWriter writer, Object value, JsonContract valueContract, JsonProperty member, JsonContainerContract containerContract, JsonProperty containerProperty)\r\n",
      "   at Newtonsoft.Json.Serialization.JsonSerializerInternalWriter.Serialize(JsonWriter jsonWriter, Object value, Type objectType)\r\n",
      "   at Newtonsoft.Json.JsonSerializer.SerializeInternal(JsonWriter jsonWriter, Object value, Type objectType)\r\n",
      "   at Newtonsoft.Json.JsonSerializer.Serialize(JsonWriter jsonWriter, Object value, Type objectType)\r\n",
      "   at Newtonsoft.Json.JsonConvert.SerializeObjectInternal(Object value, Type type, JsonSerializer jsonSerializer)\r\n",
      "   at Newtonsoft.Json.JsonConvert.SerializeObject(Object value, Type type, JsonSerializerSettings settings)\r\n",
      "   at Newtonsoft.Json.JsonConvert.SerializeObject(Object value)\r\n",
      "   at Submission#114.<<Initialize>>d__0.MoveNext()\r\n",
      "--- End of stack trace from previous location ---\r\n",
      "   at Microsoft.CodeAnalysis.Scripting.ScriptExecutionState.RunSubmissionsAsync[TResult](ImmutableArray`1 precedingExecutors, Func`2 currentExecutor, StrongBox`1 exceptionHolderOpt, Func`2 catchExceptionOpt, CancellationToken cancellationToken)"
     ]
    }
   ],
   "source": [
    "using System.Linq;\n",
    "using System.Collections;\n",
    "using System.Collections.Generic;\n",
    "\n",
    "class DataIn {\n",
    "    public string taskName {get;set;}\n",
    "    public List<Entry> data {get;set;}\n",
    "}\n",
    "\n",
    "class Entry {\n",
    "    public string name {get; set;}\n",
    "    public string group {get; set;}\n",
    "    public string discipline {get; set;}\n",
    "    public int mark {get; set;}\n",
    "}\n",
    "\n",
    "class FirstOut {\n",
    "    public List<StudentGPA> Response {set;get;}\n",
    "\n",
    "    public FirstOut(List<StudentGPA> e){\n",
    "        this.Response = e;\n",
    "    }\n",
    "}\n",
    "\n",
    "class SecondOut {\n",
    "    public List<JProperty> response{get;set;}\n",
    "}\n",
    "\n",
    "class SecondEntryResponse {\n",
    "    public string Discipline {get; set;}\n",
    "    public double Mark {get; set;}\n",
    "\n",
    "    public SecondEntryResponse(string d, double m) {\n",
    "        Discipline = d;\n",
    "        Mark = m;\n",
    "    }\n",
    "}\n",
    "\n",
    "class StudentGPA {\n",
    "    public string Cadet {get;set;}\n",
    "    public double GPA {get;set;}\n",
    "\n",
    "    public StudentGPA(string c, double gpa) {\n",
    "        Cadet = c;\n",
    "        GPA = gpa;\n",
    "    }\n",
    "}\n",
    "\n",
    "string data = File.ReadAllText(\"test.json\");\n",
    "DataIn dataIn = JsonConvert.DeserializeObject<DataIn>(data);\n",
    "var outData = new SecondOut();\n",
    "\n",
    "switch (dataIn.taskName) {\n",
    "    case \"GetStudentsWithHighestGPA\":\n",
    "        var maxMark = dataIn.data\n",
    "                            .GroupBy(e => e.name)\n",
    "                            .Select(e => e.Average(e => e.mark))\n",
    "                            .Max();\n",
    "        \n",
    "        var response = new FirstOut(dataIn.data\n",
    "                        .DistinctBy(e => e.name)\n",
    "                        .Where(e => dataIn.data.Where(entry => entry.name == e.name).Average(entry => entry.mark) == maxMark)\n",
    "                        .Select(e => new StudentGPA(e.name, maxMark))\n",
    "                        .ToList());\n",
    "\n",
    "        File.WriteAllText(\"answer.json\", JsonConvert.SerializeObject(response));\n",
    "        break;\n",
    "\n",
    "    case \"CalculateGPAByDiscipline\":\n",
    "        outData.response = \n",
    "        dataIn.data\n",
    "            .GroupBy(e => e.discipline)\n",
    "            .Select(e => new JProperty(e.First().discipline, e.Average(enrty => enrty.mark)))\n",
    "            .ToList();        \n",
    "\n",
    "        File.WriteAllText(\"answer.json\", JsonConvert.SerializeObject(outData));\n",
    "        break;\n",
    "}\n"
   ]
  },
  {
   "cell_type": "code",
   "execution_count": 11,
   "metadata": {
    "dotnet_interactive": {
     "language": "csharp"
    },
    "polyglot_notebook": {
     "kernelName": "csharp"
    }
   },
   "outputs": [
    {
     "data": {
      "text/html": [
       "<details open=\"open\" class=\"dni-treeview\"><summary><span class=\"dni-code-hint\"><code>Submission#11+DataIn</code></span></summary><div><table><thead><tr></tr></thead><tbody><tr><td>taskName</td><td><div class=\"dni-plaintext\"><pre>GetStudentsWithHighestGPA</pre></div></td></tr><tr><td>data</td><td><table><thead><tr><th><i>index</i></th><th>value</th></tr></thead><tbody><tr><td>0</td><td><details class=\"dni-treeview\"><summary><span class=\"dni-code-hint\"><code>Submission#11+Entry</code></span></summary><div><table><thead><tr></tr></thead><tbody><tr><td>name</td><td><div class=\"dni-plaintext\"><pre>Cadet1</pre></div></td></tr><tr><td>group</td><td><div class=\"dni-plaintext\"><pre>SC-991</pre></div></td></tr><tr><td>discipline</td><td><div class=\"dni-plaintext\"><pre>Programming</pre></div></td></tr><tr><td>mark</td><td><div class=\"dni-plaintext\"><pre>5</pre></div></td></tr></tbody></table></div></details></td></tr><tr><td>1</td><td><details class=\"dni-treeview\"><summary><span class=\"dni-code-hint\"><code>Submission#11+Entry</code></span></summary><div><table><thead><tr></tr></thead><tbody><tr><td>name</td><td><div class=\"dni-plaintext\"><pre>Cadet2</pre></div></td></tr><tr><td>group</td><td><div class=\"dni-plaintext\"><pre>SC-991</pre></div></td></tr><tr><td>discipline</td><td><div class=\"dni-plaintext\"><pre>Programming</pre></div></td></tr><tr><td>mark</td><td><div class=\"dni-plaintext\"><pre>3</pre></div></td></tr></tbody></table></div></details></td></tr><tr><td>2</td><td><details class=\"dni-treeview\"><summary><span class=\"dni-code-hint\"><code>Submission#11+Entry</code></span></summary><div><table><thead><tr></tr></thead><tbody><tr><td>name</td><td><div class=\"dni-plaintext\"><pre>Cadet1</pre></div></td></tr><tr><td>group</td><td><div class=\"dni-plaintext\"><pre>SC-991</pre></div></td></tr><tr><td>discipline</td><td><div class=\"dni-plaintext\"><pre>Algebra</pre></div></td></tr><tr><td>mark</td><td><div class=\"dni-plaintext\"><pre>5</pre></div></td></tr></tbody></table></div></details></td></tr><tr><td>3</td><td><details class=\"dni-treeview\"><summary><span class=\"dni-code-hint\"><code>Submission#11+Entry</code></span></summary><div><table><thead><tr></tr></thead><tbody><tr><td>name</td><td><div class=\"dni-plaintext\"><pre>Cadet2</pre></div></td></tr><tr><td>group</td><td><div class=\"dni-plaintext\"><pre>SC-991</pre></div></td></tr><tr><td>discipline</td><td><div class=\"dni-plaintext\"><pre>Algebra</pre></div></td></tr><tr><td>mark</td><td><div class=\"dni-plaintext\"><pre>4</pre></div></td></tr></tbody></table></div></details></td></tr><tr><td>4</td><td><details class=\"dni-treeview\"><summary><span class=\"dni-code-hint\"><code>Submission#11+Entry</code></span></summary><div><table><thead><tr></tr></thead><tbody><tr><td>name</td><td><div class=\"dni-plaintext\"><pre>Cadet3</pre></div></td></tr><tr><td>group</td><td><div class=\"dni-plaintext\"><pre>SC-992</pre></div></td></tr><tr><td>discipline</td><td><div class=\"dni-plaintext\"><pre>Programming</pre></div></td></tr><tr><td>mark</td><td><div class=\"dni-plaintext\"><pre>4</pre></div></td></tr></tbody></table></div></details></td></tr><tr><td>5</td><td><details class=\"dni-treeview\"><summary><span class=\"dni-code-hint\"><code>Submission#11+Entry</code></span></summary><div><table><thead><tr></tr></thead><tbody><tr><td>name</td><td><div class=\"dni-plaintext\"><pre>Cadet4</pre></div></td></tr><tr><td>group</td><td><div class=\"dni-plaintext\"><pre>SC-992</pre></div></td></tr><tr><td>discipline</td><td><div class=\"dni-plaintext\"><pre>Programming</pre></div></td></tr><tr><td>mark</td><td><div class=\"dni-plaintext\"><pre>5</pre></div></td></tr></tbody></table></div></details></td></tr><tr><td>6</td><td><details class=\"dni-treeview\"><summary><span class=\"dni-code-hint\"><code>Submission#11+Entry</code></span></summary><div><table><thead><tr></tr></thead><tbody><tr><td>name</td><td><div class=\"dni-plaintext\"><pre>Cadet3</pre></div></td></tr><tr><td>group</td><td><div class=\"dni-plaintext\"><pre>SC-992</pre></div></td></tr><tr><td>discipline</td><td><div class=\"dni-plaintext\"><pre>Algebra</pre></div></td></tr><tr><td>mark</td><td><div class=\"dni-plaintext\"><pre>3</pre></div></td></tr></tbody></table></div></details></td></tr><tr><td>7</td><td><details class=\"dni-treeview\"><summary><span class=\"dni-code-hint\"><code>Submission#11+Entry</code></span></summary><div><table><thead><tr></tr></thead><tbody><tr><td>name</td><td><div class=\"dni-plaintext\"><pre>Cadet4</pre></div></td></tr><tr><td>group</td><td><div class=\"dni-plaintext\"><pre>SC-992</pre></div></td></tr><tr><td>discipline</td><td><div class=\"dni-plaintext\"><pre>Algebra</pre></div></td></tr><tr><td>mark</td><td><div class=\"dni-plaintext\"><pre>5</pre></div></td></tr></tbody></table></div></details></td></tr></tbody></table></td></tr></tbody></table></div></details><style>\r\n",
       ".dni-code-hint {\r\n",
       "    font-style: italic;\r\n",
       "    overflow: hidden;\r\n",
       "    white-space: nowrap;\r\n",
       "}\r\n",
       ".dni-treeview {\r\n",
       "    white-space: nowrap;\r\n",
       "}\r\n",
       ".dni-treeview td {\r\n",
       "    vertical-align: top;\r\n",
       "    text-align: start;\r\n",
       "}\r\n",
       "details.dni-treeview {\r\n",
       "    padding-left: 1em;\r\n",
       "}\r\n",
       "table td {\r\n",
       "    text-align: start;\r\n",
       "}\r\n",
       "table tr { \r\n",
       "    vertical-align: top; \r\n",
       "    margin: 0em 0px;\r\n",
       "}\r\n",
       "table tr td pre \r\n",
       "{ \r\n",
       "    vertical-align: top !important; \r\n",
       "    margin: 0em 0px !important;\r\n",
       "} \r\n",
       "table th {\r\n",
       "    text-align: start;\r\n",
       "}\r\n",
       "</style>"
      ]
     },
     "metadata": {},
     "output_type": "display_data"
    }
   ],
   "source": []
  }
 ],
 "metadata": {
  "kernelspec": {
   "display_name": ".NET (C#)",
   "language": "C#",
   "name": ".net-csharp"
  },
  "polyglot_notebook": {
   "kernelInfo": {
    "defaultKernelName": "csharp",
    "items": [
     {
      "aliases": [],
      "languageName": "csharp",
      "name": "csharp"
     }
    ]
   }
  }
 },
 "nbformat": 4,
 "nbformat_minor": 2
}
