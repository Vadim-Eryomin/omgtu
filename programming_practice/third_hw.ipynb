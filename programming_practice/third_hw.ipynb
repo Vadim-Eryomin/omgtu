{
 "cells": [
  {
   "cell_type": "code",
   "execution_count": 7,
   "metadata": {
    "dotnet_interactive": {
     "language": "csharp"
    },
    "polyglot_notebook": {
     "kernelName": "csharp"
    }
   },
   "outputs": [],
   "source": [
    "using Newtonsoft.Json;\n",
    "using System;\n",
    "using System.Collections.Generic;\n",
    "using System.IO;\n",
    "using System.Linq;"
   ]
  },
  {
   "cell_type": "code",
   "execution_count": 2,
   "metadata": {},
   "outputs": [],
   "source": [
    "public class Entry\n",
    "{\n",
    "    public string name { get; set; }\n",
    "    public string group { get; set; }\n",
    "    public string discipline { get; set; }\n",
    "    public int mark { get; set; }\n",
    "}\n",
    "\n",
    "public class Input\n",
    "{\n",
    "    public string taskName { get; set; }\n",
    "    public Entry[] data { get; set; }\n",
    "}\n",
    "\n",
    "public class Output\n",
    "{\n",
    "    public List<Dictionary<string, object>> Response { get; set; }\n",
    "    public Output(List<Dictionary<string, object>> Response)\n",
    "    {\n",
    "        this.Response = Response;\n",
    "    }\n",
    "}"
   ]
  },
  {
   "cell_type": "code",
   "execution_count": 6,
   "metadata": {},
   "outputs": [],
   "source": [
    "public Output GetStudentsWithHighestGPA(Entry[] input)\n",
    "{\n",
    "    List<Dictionary<string, object>> output = new List<Dictionary<string, object>>();\n",
    "    var studentToGpa = input\n",
    "            .GroupBy(e => e.name)\n",
    "            .Select(g => new { name = g.Key, GPA = g.Average(e => e.mark) });\n",
    "    studentToGpa\n",
    "            .Where(e => e.GPA == studentToGpa.Max(c => c.GPA))\n",
    "            .Select(e => e.name)\n",
    "            .ToList()\n",
    "            .ForEach(e => output.Add(new Dictionary<string, object>() {{\"Cadet\", e}, {\"GPA\", studentToGpa.Max(c => c.GPA)}}));\n",
    "\n",
    "    return new Output(output);\n",
    "}\n",
    "\n",
    "public Output CalculateGPAByDiscipline(Entry[] input)\n",
    "{\n",
    "    List<Dictionary<string, object>> output = new List<Dictionary<string, object>>();\n",
    "    input\n",
    "        .GroupBy(e => e.discipline)\n",
    "        .Select(g => new { discipline = g.Key, GPA = g.Average(s => s.mark) })\n",
    "        .ToList()\n",
    "        .ForEach(e => output.Add(new Dictionary<string, object>() { {e.discipline, e.GPA} } ));\n",
    "    \n",
    "    return new Output(output);\n",
    "}\n",
    "\n",
    "public Output GetBestGroupsByDiscipline(Entry[] input)\n",
    "{\n",
    "    List<Dictionary<string, object>> output = new List<Dictionary<string, object>>();\n",
    "    input\n",
    "        .GroupBy(e => e.discipline)\n",
    "        .Select(g => new { discipline = g.Key, groups = g.GroupBy(s => s.group)\n",
    "        .Select(g => new { group = g.Key, GPA = g.Average(s => s.mark) }) })\n",
    "        .Select(g => (Discipline: g.discipline, Group: g.groups.OrderByDescending(g => g.GPA).First().group, GPA: g.groups.OrderByDescending(g => g.GPA).First().GPA))\n",
    "        .ToList()\n",
    "        .ForEach(e => output.Add(new Dictionary<string, object>() { {\"Discipline\", e.Discipline }, {\"Group\", e.Group }, {\"GPA\", e.GPA } }));\n",
    "\n",
    "    return new Output(output);\n",
    "}"
   ]
  },
  {
   "cell_type": "code",
   "execution_count": 11,
   "metadata": {},
   "outputs": [],
   "source": [
    "string[] files = { \"GetStudentsWithHighestGPA.json\", \"CalculateGPAByDiscipline.json\", \"GetBestGroupsByDiscipline.json\" };\n",
    "foreach (string name in files)\n",
    "{\n",
    "    var file = JsonConvert.DeserializeObject<Input>(File.ReadAllText(name));\n",
    "    switch (file.taskName)\n",
    "    {\n",
    "        case \"GetStudentsWithHighestGPA\":\n",
    "            File.WriteAllText(\"OutGetStudentsWithHighestGPA.json\", JsonConvert.SerializeObject(GetStudentsWithHighestGPA(file.data)));\n",
    "            break;\n",
    "        case \"CalculateGPAByDiscipline\":\n",
    "            File.WriteAllText(\"OutCalculateGPAByDiscipline.json\", JsonConvert.SerializeObject(CalculateGPAByDiscipline(file.data)));\n",
    "            break;\n",
    "        case \"GetBestGroupsByDiscipline\":\n",
    "            File.WriteAllText(\"OutGetBestGroupsByDiscipline.json\", JsonConvert.SerializeObject(GetBestGroupsByDiscipline(file.data)));\n",
    "            break;\n",
    "    }\n",
    "}"
   ]
  }
 ],
 "metadata": {
  "kernelspec": {
   "display_name": ".NET (C#)",
   "language": "C#",
   "name": ".net-csharp"
  },
  "polyglot_notebook": {
   "kernelInfo": {
    "defaultKernelName": "csharp",
    "items": [
     {
      "aliases": [],
      "languageName": "csharp",
      "name": "csharp"
     }
    ]
   }
  }
 },
 "nbformat": 4,
 "nbformat_minor": 2
}
